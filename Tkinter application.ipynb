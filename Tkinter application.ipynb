{
 "cells": [
  {
   "cell_type": "code",
   "execution_count": 1,
   "metadata": {},
   "outputs": [],
   "source": [
    "import tkinter as tk\n",
    "import pandas as pd\n",
    "\n",
    "def compute():\n",
    "    a = e1.get()\n",
    "    a2 = e2.get()\n",
    "    a3 = e3.get()\n",
    "    a4 = e4.get()\n",
    "    a6 = e6.get()\n",
    "    a7 = e7.get()\n",
    "    global c\n",
    "    c = pd.DataFrame({'name' : [a],'category': [a2],'main_category': [a3],'backers': [a4],'state': 1,'launched':[a6],'deadline':[a7]})\n",
    "    print(c)\n",
    "    return\n",
    "\n",
    "\n",
    "master = tk.Tk()\n",
    "master.wm_title(\"Kickstarter Campaign Adviser\")\n",
    "\n",
    "tk.Label(master, text=\"Name\").grid(row=0)\n",
    "tk.Label(master, text=\"Category\").grid(row=1)\n",
    "tk.Label(master, text=\"Main Category\").grid(row=2)\n",
    "tk.Label(master, text=\"Virality\").grid(row=3)\n",
    "tk.Label(master, text=\"Launched\").grid(row=4)\n",
    "tk.Label(master, text=\"Deadline\").grid(row=5)\n",
    "\n",
    "e1 = tk.Entry(master)\n",
    "e2 = tk.Entry(master)\n",
    "e3 = tk.Entry(master)\n",
    "e4 = tk.Entry(master)\n",
    "e6 = tk.Entry(master)\n",
    "e7 = tk.Entry(master)\n",
    "\n",
    "e1.grid(row=0, column=1)\n",
    "e2.grid(row=1, column=1)\n",
    "e3.grid(row=2, column=1)\n",
    "e4.grid(row=3, column=1)\n",
    "e6.grid(row=4, column=1)\n",
    "e7.grid(row=5, column=1)\n",
    "\n",
    "tk.Button(master, text='Quit', command=master.quit).grid(row=6, column=0, sticky=tk.W, pady=4)\n",
    "tk.Button(master, text='Compute', command=compute).grid(row=6, column=1, sticky=tk.W, pady=4)\n",
    "\n",
    "\n",
    "tk.mainloop()\n",
    "\n",
    "#Loading the Librarys\n",
    "import pandas as pd\n",
    "import numpy as np\n",
    "import seaborn as sns\n",
    "import matplotlib.pyplot as plt\n",
    "from scipy import stats\n",
    "\n",
    "from sklearn.preprocessing import minmax_scale\n",
    "from sklearn.metrics import accuracy_score, confusion_matrix, classification_report\n",
    "from sklearn.model_selection import cross_val_score\n",
    "from sklearn.preprocessing import LabelEncoder, StandardScaler\n",
    "from sklearn.pipeline import Pipeline\n",
    "from sklearn.model_selection import train_test_split, KFold, cross_validate\n",
    "\n",
    "dataset = pd.read_csv(\"ks-projects-201801.csv\")\n",
    "dataset = dataset.dropna()\n",
    "dataset = dataset.loc[dataset['state'].isin(['failed','successful'])]\n",
    "targ_dict = {'failed': 0,'successful': 1 }\n",
    "dataset['state'] = dataset['state'].map(targ_dict)\n",
    "\n"
   ]
  },
  {
   "cell_type": "code",
   "execution_count": 209,
   "metadata": {},
   "outputs": [],
   "source": [
    "dataset = dataset.reset_index()\n",
    "dataset.drop(\"index\",axis= 1 ,inplace =True)\n",
    "\n",
    "dataset.drop(dataset[dataset.usd_pledged_real < 100].index, inplace=True)\n",
    "dataset.drop(dataset[dataset.usd_pledged_real > 1000000].index, inplace=True)\n",
    "\n",
    "dataset = dataset.reset_index()\n",
    "dataset.drop(\"index\",axis= 1 ,inplace =True)"
   ]
  },
  {
   "cell_type": "code",
   "execution_count": 210,
   "metadata": {},
   "outputs": [
    {
     "name": "stdout",
     "output_type": "stream",
     "text": [
      "11474.043283758196\n",
      "2361.01\n",
      "144.51512426809384\n",
      "36.0\n"
     ]
    }
   ],
   "source": [
    "print(dataset[\"usd_pledged_real\"].mean())\n",
    "print(dataset[\"usd_pledged_real\"].median())\n",
    "\n",
    "print(dataset[\"backers\"].mean())\n",
    "print(dataset[\"backers\"].median())"
   ]
  },
  {
   "cell_type": "code",
   "execution_count": 211,
   "metadata": {},
   "outputs": [],
   "source": [
    "dataset.loc[dataset['backers'] < 100, 'backers'] = 1\n",
    "dataset.loc[dataset['backers'] > 4500, 'backers'] = 4\n",
    "dataset.loc[(dataset['backers'] >= 1500) & (dataset['backers'] <= 4500),'backers'] = 3\n",
    "dataset.loc[(dataset['backers'] >= 100) & (dataset['backers'] <= 1500),'backers'] = 2"
   ]
  },
  {
   "cell_type": "code",
   "execution_count": 212,
   "metadata": {},
   "outputs": [],
   "source": [
    "\n",
    "\n",
    "y = dataset['usd_pledged_real']\n",
    "X = dataset.drop('usd_pledged_real',axis=1)"
   ]
  },
  {
   "cell_type": "code",
   "execution_count": 213,
   "metadata": {},
   "outputs": [
    {
     "name": "stderr",
     "output_type": "stream",
     "text": [
      "C:\\Users\\BERK\\Anaconda3\\lib\\site-packages\\pandas\\core\\frame.py:6692: FutureWarning:\n",
      "\n",
      "Sorting because non-concatenation axis is not aligned. A future version\n",
      "of pandas will change to not sort by default.\n",
      "\n",
      "To accept the future behavior, pass 'sort=False'.\n",
      "\n",
      "To retain the current behavior and silence the warning, pass 'sort=True'.\n",
      "\n",
      "\n"
     ]
    }
   ],
   "source": [
    "X = X.append(c, ignore_index=True)\n",
    "\n",
    "X[\"num_words\"]        = X[\"name\"].apply(lambda x: len(x.split()))\n",
    "X[\"num_chars\"]        = X[\"name\"].apply(lambda x: len(x.replace(\" \",\"\")))\n",
    "X['launched'] = pd.to_datetime(X['launched'])\n",
    "X['launched_date'] = X['launched'].dt.date\n",
    "X[\"launched_week\"]    = X[\"launched\"].dt.week\n",
    "X['launched'] = pd.to_datetime(X['launched'])\n",
    "X['launched_date'] = X['launched'].dt.date\n",
    "X['deadline'] = pd.to_datetime(X['deadline'])\n",
    "X['deadline_date'] = X['deadline'].dt.date\n",
    "X[\"launched_day\"]     = X[\"launched\"].dt.weekday\n",
    "X[\"is_weekend\"]       = X[\"launched_day\"].apply(lambda x: 1 if x > 4 else 0)\n",
    "X['time_campaign_d'] = (X['deadline_date'] - X['launched_date']).dt.days\n",
    "X['time_campaign_d'] = X['time_campaign_d'].astype(int)\n",
    "X = X[X['time_campaign_d'] != 14867]\n",
    "\n",
    "\n",
    "to_drop = ['ID', 'name','goal','deadline', 'pledged', 'currency', 'launched','country','usd_goal_real','usd pledged','launched_date', 'deadline_date']\n",
    "\n",
    "X.drop(to_drop, axis=1, inplace=True)\n",
    "#removing outlier value\n",
    "\n",
    "\n",
    "X = pd.get_dummies(X, columns=['category', 'main_category'],\\\n",
    "                          prefix=['cat', 'main_cat'], drop_first=True)\n",
    "\n",
    "\n",
    "c2 = X.iloc[232441, :]\n",
    "X.drop(232441, inplace=True)"
   ]
  },
  {
   "cell_type": "code",
   "execution_count": 214,
   "metadata": {},
   "outputs": [
    {
     "name": "stdout",
     "output_type": "stream",
     "text": [
      "                            OLS Regression Results                            \n",
      "==============================================================================\n",
      "Dep. Variable:       usd_pledged_real   R-squared:                       0.312\n",
      "Model:                            OLS   Adj. R-squared:                  0.312\n",
      "Method:                 Least Squares   F-statistic:                     606.3\n",
      "Date:                Sat, 28 Dec 2019   Prob (F-statistic):               0.00\n",
      "Time:                        08:26:29   Log-Likelihood:            -2.7599e+06\n",
      "No. Observations:              232441   AIC:                         5.520e+06\n",
      "Df Residuals:                  232266   BIC:                         5.522e+06\n",
      "Df Model:                         174                                         \n",
      "Covariance Type:            nonrobust                                         \n",
      "==========================================================================================\n",
      "                             coef    std err          t      P>|t|      [0.025      0.975]\n",
      "------------------------------------------------------------------------------------------\n",
      "backers                 4.519e+04    170.958    264.314      0.000    4.49e+04    4.55e+04\n",
      "state                    364.9268    167.210      2.182      0.029      37.199     692.654\n",
      "num_words               -145.5441     55.291     -2.632      0.008    -253.913     -37.175\n",
      "num_chars                 43.7123     11.442      3.820      0.000      21.287      66.138\n",
      "launched_week             -6.0583      5.016     -1.208      0.227     -15.889       3.772\n",
      "launched_day            -282.0368     56.200     -5.018      0.000    -392.187    -171.886\n",
      "is_weekend               -19.2907    284.965     -0.068      0.946    -577.814     539.232\n",
      "time_campaign_d           77.9856      6.008     12.980      0.000      66.210      89.761\n",
      "cat_Academic           -6792.7307   4273.261     -1.590      0.112   -1.52e+04    1582.751\n",
      "cat_Accessories        -6044.9594    955.647     -6.326      0.000   -7918.003   -4171.916\n",
      "cat_Action             -5832.2029   4173.523     -1.397      0.162    -1.4e+04    2347.795\n",
      "cat_Animals            -6866.4061   3013.313     -2.279      0.023   -1.28e+04    -960.391\n",
      "cat_Animation          -5782.2930   3751.609     -1.541      0.123   -1.31e+04    1570.764\n",
      "cat_Anthologies        -1.889e+04   4025.473     -4.693      0.000   -2.68e+04    -1.1e+04\n",
      "cat_Apparel            -4635.3607    864.947     -5.359      0.000   -6330.634   -2940.088\n",
      "cat_Apps               -4.242e+04   1795.767    -23.621      0.000   -4.59e+04   -3.89e+04\n",
      "cat_Architecture       -3283.2137   1662.466     -1.975      0.048   -6541.604     -24.824\n",
      "cat_Art                -4.925e+04    602.108    -81.801      0.000   -5.04e+04   -4.81e+04\n",
      "cat_Art Books          -1.156e+04   3967.651     -2.914      0.004   -1.93e+04   -3784.218\n",
      "cat_Audio              -4.401e+04   3637.017    -12.099      0.000   -5.11e+04   -3.69e+04\n",
      "cat_Bacon              -1.241e+04   5998.646     -2.068      0.039   -2.42e+04    -650.529\n",
      "cat_Blues               -420.4189   9760.714     -0.043      0.966   -1.96e+04    1.87e+04\n",
      "cat_Calendars          -1.514e+04   4587.776     -3.299      0.001   -2.41e+04   -6143.182\n",
      "cat_Camera Equipment    3035.7818   2550.668      1.190      0.234   -1963.461    8035.025\n",
      "cat_Candles             2.365e+04   1.31e+04      1.809      0.070   -1971.419    4.93e+04\n",
      "cat_Ceramics           -4.885e+04   2416.451    -20.215      0.000   -5.36e+04   -4.41e+04\n",
      "cat_Children's Books   -1.069e+04   3928.530     -2.720      0.007   -1.84e+04   -2987.456\n",
      "cat_Childrenswear      -6772.3972   2079.974     -3.256      0.001   -1.08e+04   -2695.702\n",
      "cat_Chiptune           -3653.2703   1.14e+04     -0.321      0.748    -2.6e+04    1.87e+04\n",
      "cat_Civic Design       -5170.9716   2264.710     -2.283      0.022   -9609.744    -732.199\n",
      "cat_Classical Music    -1374.2532   9455.415     -0.145      0.884   -1.99e+04    1.72e+04\n",
      "cat_Comedy             -1.001e+04   3632.343     -2.757      0.006   -1.71e+04   -2894.653\n",
      "cat_Comic Books        -1.395e+04   4155.767     -3.357      0.001   -2.21e+04   -5807.415\n",
      "cat_Comics             -1.188e+04   4127.300     -2.877      0.004      -2e+04   -3785.958\n",
      "cat_Community Gardens  -8188.5640   4903.772     -1.670      0.095   -1.78e+04    1422.703\n",
      "cat_Conceptual Art     -4.861e+04   1457.487    -33.353      0.000   -5.15e+04   -4.58e+04\n",
      "cat_Cookbooks          -1.108e+04   4527.386     -2.448      0.014      -2e+04   -2207.888\n",
      "cat_Country & Folk     -5177.3393   9442.831     -0.548      0.583   -2.37e+04    1.33e+04\n",
      "cat_Couture            -3877.0386   3221.889     -1.203      0.229   -1.02e+04    2437.780\n",
      "cat_Crafts              2.319e+04   1.28e+04      1.815      0.069   -1849.863    4.82e+04\n",
      "cat_Crochet             2.444e+04   1.36e+04      1.798      0.072   -2195.738    5.11e+04\n",
      "cat_DIY                 2.409e+04   1.29e+04      1.871      0.061   -1144.920    4.93e+04\n",
      "cat_DIY Electronics    -3.476e+04   2102.677    -16.532      0.000   -3.89e+04   -3.06e+04\n",
      "cat_Dance              -1.283e+04   5046.394     -2.542      0.011   -2.27e+04   -2938.016\n",
      "cat_Design             -2735.7481    906.042     -3.019      0.003   -4511.567    -959.929\n",
      "cat_Digital Art         -5.01e+04   1427.678    -35.094      0.000   -5.29e+04   -4.73e+04\n",
      "cat_Documentary        -1.094e+04   3658.158     -2.989      0.003   -1.81e+04   -3765.745\n",
      "cat_Drama              -8169.1460   3767.676     -2.168      0.030   -1.56e+04    -784.597\n",
      "cat_Drinks             -1.018e+04   4100.252     -2.482      0.013   -1.82e+04   -2141.522\n",
      "cat_Electronic Music   -3261.2959   9483.312     -0.344      0.731   -2.18e+04    1.53e+04\n",
      "cat_Embroidery          2.306e+04   1.38e+04      1.672      0.095   -3973.681    5.01e+04\n",
      "cat_Events             -8493.7449   4134.452     -2.054      0.040   -1.66e+04    -390.325\n",
      "cat_Experimental       -1.152e+04   3906.922     -2.948      0.003   -1.92e+04   -3859.649\n",
      "cat_Fabrication Tools  -1.286e+04   3378.888     -3.806      0.000   -1.95e+04   -6238.757\n",
      "cat_Faith              -1146.4312   9514.561     -0.120      0.904   -1.98e+04    1.75e+04\n",
      "cat_Family             -8127.8060   4571.458     -1.778      0.075   -1.71e+04     832.133\n",
      "cat_Fantasy            -4596.8715   4404.096     -1.044      0.297   -1.32e+04    4035.043\n",
      "cat_Farmer's Markets   -7805.8419   4719.043     -1.654      0.098   -1.71e+04    1443.360\n",
      "cat_Farms              -8939.8660   4237.121     -2.110      0.035   -1.72e+04    -635.218\n",
      "cat_Fashion            -5191.7257    795.627     -6.525      0.000   -6751.135   -3632.316\n",
      "cat_Festivals          -1.133e+04   3865.216     -2.932      0.003   -1.89e+04   -3755.230\n",
      "cat_Fiction            -8696.2701   3927.254     -2.214      0.027   -1.64e+04    -998.954\n",
      "cat_Film & Video       -9271.1040   3672.277     -2.525      0.012   -1.65e+04   -2073.536\n",
      "cat_Fine Art           -4944.6043   1573.878     -3.142      0.002   -8029.365   -1859.843\n",
      "cat_Flight             -1.785e+04   2819.908     -6.332      0.000   -2.34e+04   -1.23e+04\n",
      "cat_Food               -1.119e+04   4014.458     -2.787      0.005   -1.91e+04   -3321.824\n",
      "cat_Food Trucks        -8927.2285   4196.856     -2.127      0.033   -1.72e+04    -701.499\n",
      "cat_Footwear             488.7310   1428.863      0.342      0.732   -2311.804    3289.266\n",
      "cat_Gadgets            -2.731e+04   1804.414    -15.134      0.000   -3.08e+04   -2.38e+04\n",
      "cat_Games              -5313.7085    908.803     -5.847      0.000   -7094.939   -3532.478\n",
      "cat_Gaming Hardware     4384.5067   2273.581      1.928      0.054     -71.653    8840.666\n",
      "cat_Glass               2.422e+04   1.34e+04      1.813      0.070   -1969.301    5.04e+04\n",
      "cat_Graphic Design     -8942.2141   1096.221     -8.157      0.000   -1.11e+04   -6793.649\n",
      "cat_Graphic Novels     -1.448e+04   4188.081     -3.458      0.001   -2.27e+04   -6272.096\n",
      "cat_Hardware           -1.901e+04   1752.001    -10.850      0.000   -2.24e+04   -1.56e+04\n",
      "cat_Hip-Hop            -1122.4208   9479.460     -0.118      0.906   -1.97e+04    1.75e+04\n",
      "cat_Horror             -9284.6279   3859.848     -2.405      0.016   -1.68e+04   -1719.425\n",
      "cat_Illustration       -5.165e+04    819.299    -63.047      0.000   -5.33e+04      -5e+04\n",
      "cat_Immersive          -1.091e+04   4366.958     -2.498      0.012   -1.95e+04   -2349.406\n",
      "cat_Indie Rock         -3756.5557   9439.504     -0.398      0.691   -2.23e+04    1.47e+04\n",
      "cat_Installations       -4.86e+04   1916.829    -25.352      0.000   -5.24e+04   -4.48e+04\n",
      "cat_Interactive Design -7176.6713   2280.577     -3.147      0.002   -1.16e+04   -2706.799\n",
      "cat_Jazz               -3908.0533   9467.470     -0.413      0.680   -2.25e+04    1.46e+04\n",
      "cat_Jewelry            -4578.9596   1378.482     -3.322      0.001   -7280.749   -1877.170\n",
      "cat_Journalism         -4.352e+04   2842.352    -15.312      0.000   -4.91e+04   -3.79e+04\n",
      "cat_Kids               -5787.4412   9751.949     -0.593      0.553   -2.49e+04    1.33e+04\n",
      "cat_Knitting            1.829e+04   1.31e+04      1.392      0.164   -7456.542     4.4e+04\n",
      "cat_Latin              -3038.4584   1.03e+04     -0.295      0.768   -2.32e+04    1.72e+04\n",
      "cat_Letterpress         1.325e+04   1.15e+04      1.147      0.251   -9389.528    3.59e+04\n",
      "cat_Literary Journals  -1.291e+04   4694.439     -2.751      0.006   -2.21e+04   -3712.401\n",
      "cat_Literary Spaces    -1.177e+04   9436.489     -1.248      0.212   -3.03e+04    6720.334\n",
      "cat_Live Games         -3858.1690   1531.852     -2.519      0.012   -6860.559    -855.779\n",
      "cat_Makerspaces        -4.298e+04   3150.355    -13.642      0.000   -4.92e+04   -3.68e+04\n",
      "cat_Metal              -3624.4761   9575.814     -0.379      0.705   -2.24e+04    1.51e+04\n",
      "cat_Mixed Media        -4.838e+04    925.114    -52.302      0.000   -5.02e+04   -4.66e+04\n",
      "cat_Mobile Games       -4134.2232   1423.988     -2.903      0.004   -6925.203   -1343.244\n",
      "cat_Movie Theaters     -5697.5194   5071.519     -1.123      0.261   -1.56e+04    4242.527\n",
      "cat_Music              -4321.4556   9432.733     -0.458      0.647   -2.28e+04    1.42e+04\n",
      "cat_Music Videos       -9195.0725   4065.441     -2.262      0.024   -1.72e+04   -1226.913\n",
      "cat_Musical            -9375.4939   3967.330     -2.363      0.018   -1.72e+04   -1599.629\n",
      "cat_Narrative Film     -9877.0245   3685.677     -2.680      0.007   -1.71e+04   -2653.193\n",
      "cat_Nature             -5112.2866   2297.489     -2.225      0.026   -9615.306    -609.267\n",
      "cat_Nonfiction         -9982.4943   3926.804     -2.542      0.011   -1.77e+04   -2286.061\n",
      "cat_Painting           -4.701e+04    869.410    -54.071      0.000   -4.87e+04   -4.53e+04\n",
      "cat_People             -7520.7373   1543.853     -4.871      0.000   -1.05e+04   -4494.826\n",
      "cat_Performance Art    -4.864e+04    992.007    -49.030      0.000   -5.06e+04   -4.67e+04\n",
      "cat_Performances       -1.284e+04   5135.456     -2.500      0.012   -2.29e+04   -2772.097\n",
      "cat_Periodicals        -1.321e+04   4068.271     -3.248      0.001   -2.12e+04   -5240.470\n",
      "cat_Pet Fashion        -7818.8008   3851.468     -2.030      0.042   -1.54e+04    -270.023\n",
      "cat_Photo              -4.037e+04   4800.193     -8.410      0.000   -4.98e+04    -3.1e+04\n",
      "cat_Photobooks         -8599.2488   1149.154     -7.483      0.000   -1.09e+04   -6346.936\n",
      "cat_Photography        -5434.1345    851.564     -6.381      0.000   -7103.179   -3765.090\n",
      "cat_Places             -4730.6485   2089.141     -2.264      0.024   -8825.312    -635.985\n",
      "cat_Playing Cards      -1.545e+04    896.970    -17.222      0.000   -1.72e+04   -1.37e+04\n",
      "cat_Plays              -9831.4959   3884.992     -2.531      0.011   -1.74e+04   -2217.012\n",
      "cat_Poetry             -7469.4102   4105.396     -1.819      0.069   -1.55e+04     577.059\n",
      "cat_Pop                -3454.8825   9452.990     -0.365      0.715    -2.2e+04    1.51e+04\n",
      "cat_Pottery             1.833e+04   1.35e+04      1.354      0.176   -8195.572    4.48e+04\n",
      "cat_Print              -4.437e+04   3289.269    -13.490      0.000   -5.08e+04   -3.79e+04\n",
      "cat_Printing            2.173e+04   1.33e+04      1.633      0.102   -4343.331    4.78e+04\n",
      "cat_Product Design      1410.3761    741.853      1.901      0.057     -43.637    2864.389\n",
      "cat_Public Art         -5.029e+04    815.078    -61.695      0.000   -5.19e+04   -4.87e+04\n",
      "cat_Publishing         -1.007e+04   3943.518     -2.554      0.011   -1.78e+04   -2341.738\n",
      "cat_Punk               -2839.7483   9747.042     -0.291      0.771   -2.19e+04    1.63e+04\n",
      "cat_Puzzles            -1.272e+04   2511.770     -5.064      0.000   -1.76e+04   -7796.394\n",
      "cat_Quilts              2.422e+04   1.38e+04      1.756      0.079   -2808.130    5.13e+04\n",
      "cat_R&B                -3119.2492   9764.383     -0.319      0.749   -2.23e+04     1.6e+04\n",
      "cat_Radio & Podcasts   -9733.5573   4155.121     -2.343      0.019   -1.79e+04   -1589.628\n",
      "cat_Ready-to-wear      -4018.6127   1732.675     -2.319      0.020   -7414.611    -622.614\n",
      "cat_Residencies        -1.147e+04   6725.670     -1.705      0.088   -2.47e+04    1712.496\n",
      "cat_Restaurants        -7887.0923   4110.540     -1.919      0.055   -1.59e+04     169.460\n",
      "cat_Robots             -1.735e+04   2380.870     -7.286      0.000    -2.2e+04   -1.27e+04\n",
      "cat_Rock               -2177.2478   9438.639     -0.231      0.818   -2.07e+04    1.63e+04\n",
      "cat_Romance            -9500.1930   5045.410     -1.883      0.060   -1.94e+04     388.680\n",
      "cat_Science Fiction    -7088.6885   3972.388     -1.784      0.074   -1.49e+04     697.090\n",
      "cat_Sculpture          -4.804e+04   1066.370    -45.050      0.000   -5.01e+04    -4.6e+04\n",
      "cat_Shorts             -9332.9653   3660.244     -2.550      0.011   -1.65e+04   -2158.982\n",
      "cat_Small Batch        -1.203e+04   4134.975     -2.908      0.004   -2.01e+04   -3921.005\n",
      "cat_Software           -4.358e+04   1868.972    -23.319      0.000   -4.72e+04   -3.99e+04\n",
      "cat_Sound              -1.602e+04   2277.458     -7.034      0.000   -2.05e+04   -1.16e+04\n",
      "cat_Space Exploration  -3.927e+04   2876.992    -13.650      0.000   -4.49e+04   -3.36e+04\n",
      "cat_Spaces             -1.212e+04   3924.076     -3.089      0.002   -1.98e+04   -4428.549\n",
      "cat_Stationery          1.982e+04   1.31e+04      1.507      0.132   -5951.627    4.56e+04\n",
      "cat_Tabletop Games     -3969.4117    589.547     -6.733      0.000   -5124.909   -2813.915\n",
      "cat_Taxidermy           1.241e+04   1.76e+04      0.704      0.481   -2.21e+04    4.69e+04\n",
      "cat_Technology         -3.019e+04   1714.735    -17.606      0.000   -3.36e+04   -2.68e+04\n",
      "cat_Television         -8428.4719   4003.406     -2.105      0.035   -1.63e+04    -581.900\n",
      "cat_Textiles           -4.763e+04   2876.015    -16.561      0.000   -5.33e+04    -4.2e+04\n",
      "cat_Theater              -1.1e+04   3762.768     -2.925      0.003   -1.84e+04   -3629.371\n",
      "cat_Thrillers          -7290.2074   4037.385     -1.806      0.071   -1.52e+04     622.963\n",
      "cat_Translations       -9826.3100   5524.179     -1.779      0.075   -2.07e+04    1000.938\n",
      "cat_Typography         -1.588e+04   3355.342     -4.734      0.000   -2.25e+04   -9308.512\n",
      "cat_Vegan              -1.273e+04   4372.597     -2.911      0.004   -2.13e+04   -4159.474\n",
      "cat_Video              -4.139e+04   4011.827    -10.317      0.000   -4.93e+04   -3.35e+04\n",
      "cat_Video Art           -4.65e+04   3675.493    -12.653      0.000   -5.37e+04   -3.93e+04\n",
      "cat_Video Games        -3876.9360    636.686     -6.089      0.000   -5124.823   -2629.049\n",
      "cat_Wearables          -1.274e+04   2031.220     -6.274      0.000   -1.67e+04   -8763.053\n",
      "cat_Weaving             2.725e+04   1.37e+04      1.982      0.047     308.823    5.42e+04\n",
      "cat_Web                -4.273e+04   1928.240    -22.161      0.000   -4.65e+04    -3.9e+04\n",
      "cat_Webcomics          -1.108e+04   4383.824     -2.528      0.011   -1.97e+04   -2491.754\n",
      "cat_Webseries          -1.105e+04   3691.579     -2.993      0.003   -1.83e+04   -3814.256\n",
      "cat_Woodworking         2.439e+04   1.28e+04      1.900      0.057    -770.313    4.95e+04\n",
      "cat_Workshops          -1.212e+04   6129.086     -1.977      0.048   -2.41e+04    -103.829\n",
      "cat_World Music        -5080.6886   9471.191     -0.536      0.592   -2.36e+04    1.35e+04\n",
      "cat_Young Adult        -8141.4607   4315.179     -1.887      0.059   -1.66e+04     316.180\n",
      "cat_Zines              -1.226e+04   4447.680     -2.757      0.006    -2.1e+04   -3545.795\n",
      "main_cat_Comics        -4.362e+04   4103.806    -10.629      0.000   -5.17e+04   -3.56e+04\n",
      "main_cat_Crafts        -7.273e+04   1.28e+04     -5.699      0.000   -9.77e+04   -4.77e+04\n",
      "main_cat_Dance         -3.608e+04   4994.409     -7.224      0.000   -4.59e+04   -2.63e+04\n",
      "main_cat_Design        -4.178e+04    773.430    -54.023      0.000   -4.33e+04   -4.03e+04\n",
      "main_cat_Fashion       -4.245e+04    737.600    -57.550      0.000   -4.39e+04    -4.1e+04\n",
      "main_cat_Film & Video  -3.852e+04   3656.327    -10.534      0.000   -4.57e+04   -3.13e+04\n",
      "main_cat_Food           -3.98e+04   4006.242     -9.935      0.000   -4.77e+04   -3.19e+04\n",
      "main_cat_Games         -4.493e+04    604.453    -74.340      0.000   -4.61e+04   -4.38e+04\n",
      "main_cat_Journalism    -6877.2473   2626.655     -2.618      0.009    -1.2e+04   -1729.072\n",
      "main_cat_Music         -4.801e+04   9432.735     -5.090      0.000   -6.65e+04   -2.95e+04\n",
      "main_cat_Photography   -4.321e+04    750.901    -57.542      0.000   -4.47e+04   -4.17e+04\n",
      "main_cat_Publishing    -4.148e+04   3908.695    -10.612      0.000   -4.91e+04   -3.38e+04\n",
      "main_cat_Technology    -5777.8323   1664.979     -3.470      0.001   -9041.149   -2514.516\n",
      "main_cat_Theater       -3.791e+04   3749.181    -10.112      0.000   -4.53e+04   -3.06e+04\n",
      "==============================================================================\n",
      "Omnibus:                   374275.607   Durbin-Watson:                   2.001\n",
      "Prob(Omnibus):                  0.000   Jarque-Bera (JB):        301511513.300\n",
      "Skew:                          10.595   Prob(JB):                         0.00\n",
      "Kurtosis:                     178.165   Cond. No.                     1.04e+18\n",
      "==============================================================================\n",
      "\n",
      "Warnings:\n",
      "[1] Standard Errors assume that the covariance matrix of the errors is correctly specified.\n",
      "[2] The smallest eigenvalue is 6.49e-28. This might indicate that there are\n",
      "strong multicollinearity problems or that the design matrix is singular.\n"
     ]
    }
   ],
   "source": [
    "\n",
    "\n",
    "import statsmodels.api as sm\n",
    "\n",
    "results = sm.OLS(y, X.astype(float)).fit()\n",
    "print(results.summary())"
   ]
  },
  {
   "cell_type": "code",
   "execution_count": 215,
   "metadata": {},
   "outputs": [],
   "source": [
    "X_train, X_test, y_train, y_test = train_test_split(X, y, test_size = 0.2, random_state = 42)\n",
    "\n",
    "from sklearn.preprocessing import StandardScaler\n",
    "sc = StandardScaler()\n",
    "X_train = sc.fit_transform(X_train)\n",
    "X_test = sc.transform(X_test)"
   ]
  },
  {
   "cell_type": "code",
   "execution_count": 200,
   "metadata": {},
   "outputs": [
    {
     "name": "stdout",
     "output_type": "stream",
     "text": [
      "Linear Regression\n",
      "[ 6533.62695064 58191.62695064  -602.37304936 ... -2930.37304936\n",
      " 45509.62695064 14223.62695064]\n",
      "Linear Regression r2\n",
      "0.3163204436990391\n",
      "13607.800385575229\n"
     ]
    }
   ],
   "source": [
    "from math import sqrt\n",
    "from sklearn.metrics import r2_score\n",
    "from sklearn import metrics\n",
    "from sklearn.linear_model import LinearRegression\n",
    "lin_reg = LinearRegression()\n",
    "lin_reg.fit(X_train,y_train)\n",
    "print(\"Linear Regression\")\n",
    "print(lin_reg.predict(X_test))\n",
    "print(\"Linear Regression r2\")\n",
    "print(r2_score(y_test,lin_reg.predict(X_test)))\n",
    "\n",
    "op = lin_reg.predict(X_test)\n",
    "print(metrics.mean_absolute_error(y_test, op))"
   ]
  },
  {
   "cell_type": "code",
   "execution_count": 201,
   "metadata": {},
   "outputs": [
    {
     "name": "stdout",
     "output_type": "stream",
     "text": [
      "[85061.29007903]\n"
     ]
    }
   ],
   "source": [
    "op2 = lin_reg.predict(sc.transform(np.array([c2])))\n",
    "print(op2)"
   ]
  },
  {
   "cell_type": "code",
   "execution_count": null,
   "metadata": {},
   "outputs": [],
   "source": [
    "from sklearn.preprocessing import PolynomialFeatures\n",
    "poly_reg = PolynomialFeatures(degree = 2)\n",
    "x_poly = poly_reg.fit_transform(X_train)\n",
    "print(x_poly)\n",
    "lin_reg2 = LinearRegression()\n",
    "lin_reg2.fit(x_poly,y_train)\n",
    "print(lin_reg2.predict(poly_reg.fit_transform(X_test)))\n",
    "print(\"R2 Score Polynomial degree 4\")\n",
    "print(r2_score(y_test,lin_reg2.predict(poly_reg.fit_transform(X_test))))\n",
    "print(metrics.mean_absolute_error(y_test, lin_reg2.predict(poly_reg.fit_transform(X_test))))"
   ]
  },
  {
   "cell_type": "code",
   "execution_count": 203,
   "metadata": {},
   "outputs": [
    {
     "name": "stdout",
     "output_type": "stream",
     "text": [
      "Decision Tree\n",
      "[3.77000e+02 4.86025e+05 1.75000e+02 ... 5.26000e+02 2.62135e+04\n",
      " 1.00000e+03]\n",
      "Decision Tree R2 degeri:\n",
      "0.17711003605874043\n",
      "10825.367465278525\n"
     ]
    }
   ],
   "source": [
    "from sklearn.tree import DecisionTreeRegressor\n",
    "r_dt = DecisionTreeRegressor(random_state=0)\n",
    "r_dt.fit(X_train,y_train)\n",
    "Z = X_test + 0.5\n",
    "K = X_test - 0.4\n",
    "print(\"Decision Tree\")\n",
    "print(r_dt.predict(X_test))\n",
    "print(\"Decision Tree R2 degeri:\")\n",
    "print(r2_score(y_test, r_dt.predict(X_test)))\n",
    "dh = r_dt.predict(X_test)\n",
    "print(metrics.mean_absolute_error(y_test, dh))"
   ]
  },
  {
   "cell_type": "code",
   "execution_count": 204,
   "metadata": {},
   "outputs": [
    {
     "name": "stdout",
     "output_type": "stream",
     "text": [
      "Random Forest\n",
      "[  892.206 51740.752   718.459 ...  1955.223 19166.577  2278.5  ]\n",
      "Random Forest R2 degeri:\n",
      "0.5207426863985356\n",
      "0.5162452602550156\n",
      "0.43046951865597016\n",
      "8714.337286985707\n"
     ]
    }
   ],
   "source": [
    "from sklearn.ensemble import RandomForestRegressor\n",
    "rf_reg = RandomForestRegressor(n_estimators = 10, random_state=0)\n",
    "rf_reg.fit(X_train,y_train)\n",
    "print(\"Random Forest\")\n",
    "print(rf_reg.predict(X_test))\n",
    "print(\"Random Forest R2 degeri:\")\n",
    "print(r2_score(y_test, rf_reg.predict(X_test)) )\n",
    "print(r2_score(y_test, rf_reg.predict(K)) )\n",
    "print(r2_score(y_test, rf_reg.predict(Z)) )\n",
    "rf =  rf_reg.predict(X_test)\n",
    "print(metrics.mean_absolute_error(y_test, rf))"
   ]
  },
  {
   "cell_type": "code",
   "execution_count": 205,
   "metadata": {},
   "outputs": [
    {
     "name": "stdout",
     "output_type": "stream",
     "text": [
      "          y_test          rf\n",
      "217009    115.26    892.2060\n",
      "210070  98497.52  51740.7520\n",
      "1635      155.00    718.4590\n",
      "209257  23748.00  68776.2670\n",
      "51152     270.00   1157.3010\n",
      "93543   12825.00   7464.0520\n",
      "59362    2587.00   2095.0230\n",
      "136211   1912.00   6259.5000\n",
      "200711  54012.76  23679.8690\n",
      "104767    252.00   1175.2010\n",
      "171114    625.00   2459.5690\n",
      "49447   22362.00  14273.4100\n",
      "170974   3620.00    844.3910\n",
      "84250    5130.33    406.2000\n",
      "46234   21049.07  21616.4000\n",
      "145689   5476.00   3149.8000\n",
      "211612   1110.32   2371.0650\n",
      "69537     455.50   2108.9000\n",
      "151849    726.00   1114.8620\n",
      "224659    945.00    993.6000\n",
      "192478  12484.00  16997.1080\n",
      "54605    7000.00   4387.0620\n",
      "166400  48266.50  14249.2900\n",
      "13468    2885.00   3608.7500\n",
      "69768     227.09   2183.1640\n",
      "140771  12795.01  12842.9800\n",
      "111809   1040.00   1189.4360\n",
      "183778    100.00   3754.0020\n",
      "66581     125.00   1485.7280\n",
      "62313    1492.00   4563.0345\n",
      "...          ...         ...\n",
      "57051   46926.00  19944.9270\n",
      "180774    239.00   3038.8900\n",
      "80362     911.53   1831.4860\n",
      "193577   3470.00   2329.2120\n",
      "72552     600.00   3002.7430\n",
      "52151     251.00    646.9000\n",
      "95492     310.00   1526.9730\n",
      "211541  11260.00  12972.4500\n",
      "71708    3387.50  25694.5230\n",
      "153783    250.00    737.9150\n",
      "142281   1204.11   1775.1410\n",
      "103044   3570.00   8627.9000\n",
      "79383    1470.00   1920.1900\n",
      "180013   2096.00   7864.7820\n",
      "1492      524.00    991.9940\n",
      "108309  18533.00  10635.3190\n",
      "102354    530.00   1742.2330\n",
      "201075   1606.00    777.0270\n",
      "229745    250.00    404.0980\n",
      "188782    105.00   1945.6780\n",
      "160417  19825.67  29560.1570\n",
      "199635   5880.00  12016.8640\n",
      "89774    2235.60   2308.7460\n",
      "109764   2357.38  22856.2800\n",
      "156695  30906.00  24002.0960\n",
      "116069   2663.00   2503.1780\n",
      "197517   1063.00   2742.4520\n",
      "88250    1496.00   1955.2230\n",
      "204461  20490.00  19166.5770\n",
      "140846    187.00   2278.5000\n",
      "\n",
      "[46489 rows x 2 columns]\n"
     ]
    }
   ],
   "source": [
    "datas = pd.DataFrame({'y_test': y_test[:,], 'rf': rf[:,]})\n",
    "print(datas)"
   ]
  },
  {
   "cell_type": "code",
   "execution_count": 206,
   "metadata": {},
   "outputs": [
    {
     "data": {
      "text/plain": [
       "<seaborn.axisgrid.JointGrid at 0x228ac1a77f0>"
      ]
     },
     "execution_count": 206,
     "metadata": {},
     "output_type": "execute_result"
    },
    {
     "data": {
      "image/png": "[encoded data removed]",
      "text/plain": [
       "<Figure size 432x432 with 3 Axes>"
      ]
     },
     "metadata": {
      "needs_background": "light"
     },
     "output_type": "display_data"
    }
   ],
   "source": [
    "sns.jointplot(x=\"rf\",y=\"y_test\",data=datas,color='c')"
   ]
  },
  {
   "cell_type": "code",
   "execution_count": 207,
   "metadata": {},
   "outputs": [
    {
     "data": {
      "text/plain": [
       "<seaborn.axisgrid.FacetGrid at 0x2289b5c8390>"
      ]
     },
     "execution_count": 207,
     "metadata": {},
     "output_type": "execute_result"
    },
    {
     "data": {
      "image/png": "[encoded data removed]",
      "text/plain": [
       "<Figure size 360x360 with 1 Axes>"
      ]
     },
     "metadata": {
      "needs_background": "light"
     },
     "output_type": "display_data"
    }
   ],
   "source": [
    "sns.lmplot(x=\"rf\",y=\"y_test\",data=datas)"
   ]
  },
  {
   "cell_type": "code",
   "execution_count": 97,
   "metadata": {},
   "outputs": [
    {
     "name": "stdout",
     "output_type": "stream",
     "text": [
      "[440923.697]\n"
     ]
    }
   ],
   "source": [
    "op3 = rf_reg.predict(sc.transform(np.array([c2])))\n",
    "print(op3)"
   ]
  },
  {
   "cell_type": "code",
   "execution_count": 107,
   "metadata": {},
   "outputs": [
    {
     "name": "stdout",
     "output_type": "stream",
     "text": [
      "[94289.539]\n"
     ]
    }
   ],
   "source": [
    "op3 = rf_reg.predict(sc.transform(np.array([c2])))\n",
    "print(op3)"
   ]
  },
  {
   "cell_type": "code",
   "execution_count": 116,
   "metadata": {},
   "outputs": [
    {
     "name": "stdout",
     "output_type": "stream",
     "text": [
      "[8392.584]\n"
     ]
    }
   ],
   "source": [
    "op3 = rf_reg.predict(sc.transform(np.array([c2])))\n",
    "print(op3)"
   ]
  },
  {
   "cell_type": "code",
   "execution_count": 124,
   "metadata": {},
   "outputs": [
    {
     "name": "stdout",
     "output_type": "stream",
     "text": [
      "[2051.8]\n"
     ]
    }
   ],
   "source": [
    "op3 = rf_reg.predict(sc.transform(np.array([c2])))\n",
    "print(op3)"
   ]
  },
  {
   "cell_type": "code",
   "execution_count": null,
   "metadata": {},
   "outputs": [],
   "source": []
  }
 ],
 "metadata": {
  "kernelspec": {
   "display_name": "Python 3",
   "language": "python",
   "name": "python3"
  },
  "language_info": {
   "codemirror_mode": {
    "name": "ipython",
    "version": 3
   },
   "file_extension": ".py",
   "mimetype": "text/x-python",
   "name": "python",
   "nbconvert_exporter": "python",
   "pygments_lexer": "ipython3",
   "version": "3.7.3"
  }
 },
 "nbformat": 4,
 "nbformat_minor": 2
}
